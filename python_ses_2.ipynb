{
 "cells": [
  {
   "cell_type": "markdown",
   "id": "e3e832ca-79c2-4bfd-b054-76d62761ec94",
   "metadata": {},
   "source": [
    "## type"
   ]
  },
  {
   "cell_type": "code",
   "execution_count": 2,
   "id": "92f6d66a-8792-48e0-87c0-4cf4e11936cf",
   "metadata": {},
   "outputs": [],
   "source": [
    "num=100\n"
   ]
  },
  {
   "cell_type": "code",
   "execution_count": 3,
   "id": "5c9fe7dd-0b31-4854-a898-038ad315aa54",
   "metadata": {},
   "outputs": [
    {
     "data": {
      "text/plain": [
       "int"
      ]
     },
     "execution_count": 3,
     "metadata": {},
     "output_type": "execute_result"
    }
   ],
   "source": [
    "type(num)"
   ]
  },
  {
   "cell_type": "markdown",
   "id": "658af144-f448-4666-94dd-480b5412fb9c",
   "metadata": {},
   "source": [
    "different types\n",
    "- integer\n",
    "- float\n",
    "- string\n",
    "- boolean\n",
    "- list\n",
    "- tuple\n",
    "- dictonary\n",
    "- set "
   ]
  },
  {
   "cell_type": "code",
   "execution_count": 5,
   "id": "f19f9813-8078-4366-81d6-20cd3dd2af7e",
   "metadata": {},
   "outputs": [
    {
     "data": {
      "text/plain": [
       "6"
      ]
     },
     "execution_count": 5,
     "metadata": {},
     "output_type": "execute_result"
    }
   ],
   "source": [
    "0b110"
   ]
  },
  {
   "cell_type": "code",
   "execution_count": 6,
   "id": "3657deee-483d-499b-a086-6a4bc76bf2a0",
   "metadata": {},
   "outputs": [
    {
     "data": {
      "text/plain": [
       "14"
      ]
     },
     "execution_count": 6,
     "metadata": {},
     "output_type": "execute_result"
    }
   ],
   "source": [
    "0b1110"
   ]
  },
  {
   "cell_type": "code",
   "execution_count": 7,
   "id": "34c44e23-5fd2-4a84-937f-6459622972e9",
   "metadata": {},
   "outputs": [
    {
     "data": {
      "text/plain": [
       "3"
      ]
     },
     "execution_count": 7,
     "metadata": {},
     "output_type": "execute_result"
    }
   ],
   "source": [
    "0b11"
   ]
  },
  {
   "cell_type": "code",
   "execution_count": 8,
   "id": "8cb293c6-7b4a-42ed-b3a6-cb9591c4a500",
   "metadata": {},
   "outputs": [
    {
     "data": {
      "text/plain": [
       "7"
      ]
     },
     "execution_count": 8,
     "metadata": {},
     "output_type": "execute_result"
    }
   ],
   "source": [
    "0b111"
   ]
  },
  {
   "cell_type": "code",
   "execution_count": 9,
   "id": "e77f5765-0ed6-49f2-a422-b69cf76f17a1",
   "metadata": {},
   "outputs": [
    {
     "data": {
      "text/plain": [
       "15"
      ]
     },
     "execution_count": 9,
     "metadata": {},
     "output_type": "execute_result"
    }
   ],
   "source": [
    "0b1111"
   ]
  },
  {
   "cell_type": "markdown",
   "id": "b6e383be-a763-4fb2-a684-ed507e508547",
   "metadata": {},
   "source": [
    "octa means 8\n",
    "octa includes 0 1 2 3 4 5 6 7\n",
    "represention is : 0o123, 0o456\n",
    "wrrong representation is : 0o897"
   ]
  },
  {
   "cell_type": "code",
   "execution_count": 1,
   "id": "bcbee89c-8c8f-41e7-9c84-6fea5be30758",
   "metadata": {},
   "outputs": [
    {
     "data": {
      "text/plain": [
       "83"
      ]
     },
     "execution_count": 1,
     "metadata": {},
     "output_type": "execute_result"
    }
   ],
   "source": [
    "0o123"
   ]
  },
  {
   "cell_type": "code",
   "execution_count": 2,
   "id": "0f6c897a-bcc3-43fd-b936-e78d58e29e1d",
   "metadata": {},
   "outputs": [
    {
     "data": {
      "text/plain": [
       "375"
      ]
     },
     "execution_count": 2,
     "metadata": {},
     "output_type": "execute_result"
    }
   ],
   "source": [
    "0o567"
   ]
  },
  {
   "cell_type": "markdown",
   "id": "459fcbd1-2ec9-4812-a619-f5f378f7334c",
   "metadata": {},
   "source": [
    "- hexa= 16\n",
    "- hexa includes only 0123456789 ABCDEF\n",
    "- representation is : 0x123\n",
    "- wrong representation is : 0xabz\n"
   ]
  },
  {
   "cell_type": "code",
   "execution_count": 3,
   "id": "de7e8c21-dab3-4ebe-8140-547552fa2442",
   "metadata": {},
   "outputs": [
    {
     "data": {
      "text/plain": [
       "2748"
      ]
     },
     "execution_count": 3,
     "metadata": {},
     "output_type": "execute_result"
    }
   ],
   "source": [
    "0xabc"
   ]
  },
  {
   "cell_type": "markdown",
   "id": "3f4ec3bf-a4f5-4b16-bdd3-35660e4776d0",
   "metadata": {},
   "source": [
    "## float "
   ]
  },
  {
   "cell_type": "code",
   "execution_count": 5,
   "id": "49132b3e-4a89-46c5-adbc-05aaf01228a7",
   "metadata": {},
   "outputs": [
    {
     "data": {
      "text/plain": [
       "float"
      ]
     },
     "execution_count": 5,
     "metadata": {},
     "output_type": "execute_result"
    }
   ],
   "source": [
    "number_float=123.56\n",
    "type(number_float)"
   ]
  },
  {
   "cell_type": "code",
   "execution_count": 6,
   "id": "a18d8c74-a9f3-475c-aa4c-59c8f43a432f",
   "metadata": {},
   "outputs": [
    {
     "data": {
      "text/plain": [
       "10.0"
      ]
     },
     "execution_count": 6,
     "metadata": {},
     "output_type": "execute_result"
    }
   ],
   "source": [
    "1e1"
   ]
  },
  {
   "cell_type": "code",
   "execution_count": 7,
   "id": "e71a8763-22f3-4907-adc4-3a4e621ed5b6",
   "metadata": {},
   "outputs": [
    {
     "data": {
      "text/plain": [
       "(10.0, 100.0, 1000.0)"
      ]
     },
     "execution_count": 7,
     "metadata": {},
     "output_type": "execute_result"
    }
   ],
   "source": [
    "1e1,1e2,1e3"
   ]
  },
  {
   "cell_type": "code",
   "execution_count": 8,
   "id": "92ee894c-6f9f-4efc-9012-8a41a1518921",
   "metadata": {},
   "outputs": [
    {
     "data": {
      "text/plain": [
       "(10.0, 100.0, 1000.0)"
      ]
     },
     "execution_count": 8,
     "metadata": {},
     "output_type": "execute_result"
    }
   ],
   "source": [
    "1e+1,1e+2,1e+3  "
   ]
  },
  {
   "cell_type": "markdown",
   "id": "087188a6-6957-4864-89a3-95d01a38dd93",
   "metadata": {},
   "source": [
    "+ means multyplication\n",
    "- means divivison"
   ]
  },
  {
   "cell_type": "code",
   "execution_count": 9,
   "id": "e7deaf42-01ea-4aef-8137-6047eab98ba4",
   "metadata": {},
   "outputs": [
    {
     "data": {
      "text/plain": [
       "(0.1, 0.01, 0.001)"
      ]
     },
     "execution_count": 9,
     "metadata": {},
     "output_type": "execute_result"
    }
   ],
   "source": [
    "1e-1,1e-2,1e-3\n",
    "# 1/10, 1/100, 1000"
   ]
  },
  {
   "cell_type": "code",
   "execution_count": 10,
   "id": "4d527eec-be9d-4475-8544-05b25b1c2954",
   "metadata": {},
   "outputs": [
    {
     "data": {
      "text/plain": [
       "1e-11"
      ]
     },
     "execution_count": 10,
     "metadata": {},
     "output_type": "execute_result"
    }
   ],
   "source": [
    "1e-10\n",
    "1/(100000000000) \n"
   ]
  },
  {
   "cell_type": "markdown",
   "id": "57e46b39-909a-4653-9ecf-2e0a4c5671a4",
   "metadata": {},
   "source": [
    "**boolean**\n",
    "- true = 1\n",
    "- false = 0"
   ]
  },
  {
   "cell_type": "code",
   "execution_count": 12,
   "id": "ac208a6f-6364-4217-b698-0f0be2f80ed0",
   "metadata": {},
   "outputs": [
    {
     "data": {
      "text/plain": [
       "bool"
      ]
     },
     "execution_count": 12,
     "metadata": {},
     "output_type": "execute_result"
    }
   ],
   "source": [
    "ans=True \n",
    "type(True)"
   ]
  },
  {
   "cell_type": "raw",
   "id": "a7401a72-826d-4df5-9849-033fd293cfc2",
   "metadata": {},
   "source": [
    "$string$ \n",
    "esc+m"
   ]
  },
  {
   "cell_type": "markdown",
   "id": "6a7646b3-e4f9-4c88-898c-17c62afc18e2",
   "metadata": {},
   "source": [
    "$String$"
   ]
  },
  {
   "cell_type": "code",
   "execution_count": 13,
   "id": "3257a311-2a2b-4e6a-944e-716f287d358c",
   "metadata": {},
   "outputs": [
    {
     "data": {
      "text/plain": [
       "'python'"
      ]
     },
     "execution_count": 13,
     "metadata": {},
     "output_type": "execute_result"
    }
   ],
   "source": [
    "name1= 'python'\n",
    "name1"
   ]
  },
  {
   "cell_type": "code",
   "execution_count": 16,
   "id": "5d52bd24-f19a-4cce-9413-6cb9702d63be",
   "metadata": {},
   "outputs": [
    {
     "data": {
      "text/plain": [
       "' naresh it'"
      ]
     },
     "execution_count": 16,
     "metadata": {},
     "output_type": "execute_result"
    }
   ],
   "source": [
    "name2= \" naresh it\"\n",
    "name2"
   ]
  },
  {
   "cell_type": "code",
   "execution_count": 17,
   "id": "639dbab1-88fb-4e8c-a2e0-605ad8071415",
   "metadata": {},
   "outputs": [
    {
     "data": {
      "text/plain": [
       "str"
      ]
     },
     "execution_count": 17,
     "metadata": {},
     "output_type": "execute_result"
    }
   ],
   "source": [
    "type(name1)"
   ]
  },
  {
   "cell_type": "markdown",
   "id": "7e82d968-b06f-4b66-9a3c-3a76cb941e68",
   "metadata": {},
   "source": [
    "integer=== int\n",
    "boolean=== bool \n",
    "string === str\n",
    "float ==== flaot"
   ]
  },
  {
   "cell_type": "markdown",
   "id": "26b71c80-4c0e-479b-a2ac-b5c3e5e7c495",
   "metadata": {},
   "source": [
    "i like 'python' "
   ]
  },
  {
   "cell_type": "code",
   "execution_count": 20,
   "id": "78cb6147-d41c-4bc8-b7ce-36c89d3dd17a",
   "metadata": {},
   "outputs": [
    {
     "data": {
      "text/plain": [
       "'i like python'"
      ]
     },
     "execution_count": 20,
     "metadata": {},
     "output_type": "execute_result"
    }
   ],
   "source": [
    "name3= 'i like python'\n",
    "name3"
   ]
  },
  {
   "cell_type": "code",
   "execution_count": 21,
   "id": "21f25cff-d1ec-43f7-8587-53cb53185845",
   "metadata": {},
   "outputs": [
    {
     "data": {
      "text/plain": [
       "'i \"like\" python'"
      ]
     },
     "execution_count": 21,
     "metadata": {},
     "output_type": "execute_result"
    }
   ],
   "source": [
    "name3= 'i \"like\" python'\n",
    "name3"
   ]
  },
  {
   "cell_type": "markdown",
   "id": "8af6d4fc-a4ab-4af2-a03d-86a552acff01",
   "metadata": {},
   "source": [
    "**note**\n",
    "- entire sentence should in single quotes, then highlited word in double quotes\n",
    "- entire sentence in double quotes, then highlisted in single quotes\n",
    "  "
   ]
  },
  {
   "cell_type": "code",
   "execution_count": 23,
   "id": "7a17dfe6-2bf2-4734-91ca-14f7a8e5387c",
   "metadata": {},
   "outputs": [
    {
     "data": {
      "text/plain": [
       "' hodeeuef\\n          howdudu '"
      ]
     },
     "execution_count": 23,
     "metadata": {},
     "output_type": "execute_result"
    }
   ],
   "source": [
    "str1= \"\"\" hodeeuef\n",
    "          howdudu \"\"\"\n",
    "str1"
   ]
  },
  {
   "cell_type": "markdown",
   "id": "73256e3c-f510-44d3-88be-d946011f7b68",
   "metadata": {},
   "source": [
    "- strings can represent in single quotes or double quotes\n",
    "- when a person writing something in triple quotes : **Doc string**\n",
    "- triple quotes are used for conveying the infromation like markdownnin jupyter notebook\n",
    "- triple quotes are not used for coding part"
   ]
  },
  {
   "cell_type": "code",
   "execution_count": 24,
   "id": "d6b382f4-3430-466b-ae0b-f8607c248707",
   "metadata": {},
   "outputs": [
    {
     "name": "stdout",
     "output_type": "stream",
     "text": [
      " hodeeuef\n",
      "          howdudu \n"
     ]
    }
   ],
   "source": [
    "print (str1)"
   ]
  },
  {
   "cell_type": "code",
   "execution_count": null,
   "id": "551f0f70-8587-4e58-b613-3fef842df160",
   "metadata": {},
   "outputs": [],
   "source": []
  }
 ],
 "metadata": {
  "kernelspec": {
   "display_name": "Python 3 (ipykernel)",
   "language": "python",
   "name": "python3"
  },
  "language_info": {
   "codemirror_mode": {
    "name": "ipython",
    "version": 3
   },
   "file_extension": ".py",
   "mimetype": "text/x-python",
   "name": "python",
   "nbconvert_exporter": "python",
   "pygments_lexer": "ipython3",
   "version": "3.11.7"
  }
 },
 "nbformat": 4,
 "nbformat_minor": 5
}
